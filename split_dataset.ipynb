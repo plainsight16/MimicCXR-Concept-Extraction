{
 "cells": [
  {
   "cell_type": "code",
   "execution_count": 1,
   "id": "2ba8eb28",
   "metadata": {},
   "outputs": [],
   "source": [
    "import json"
   ]
  },
  {
   "cell_type": "code",
   "execution_count": 2,
   "id": "68fd127a",
   "metadata": {},
   "outputs": [],
   "source": [
    "input_path = \"mimic_cxr_reports.jsonl\"\n",
    "train_val_path = \"mimic_cxr_train_val.jsonl\"\n",
    "unlabeled_path = \"mimic_cxr_unlabeled.jsonl\""
   ]
  },
  {
   "cell_type": "code",
   "execution_count": 3,
   "id": "c9ab99b1",
   "metadata": {},
   "outputs": [],
   "source": [
    "N = 1000  # Number of labeled reports to extract"
   ]
  },
  {
   "cell_type": "code",
   "execution_count": 4,
   "id": "320f8b1e",
   "metadata": {},
   "outputs": [
    {
     "name": "stdout",
     "output_type": "stream",
     "text": [
      "✅ Split complete: 1000 labeled, 226835 unlabeled\n"
     ]
    }
   ],
   "source": [
    "with open(input_path, \"r\") as infile, \\\n",
    "     open(train_val_path, \"w\") as labeled_file, \\\n",
    "     open(unlabeled_path, \"w\") as unlabeled_file:\n",
    "\n",
    "    total_reports = 0\n",
    "    for i, line in enumerate(infile):\n",
    "        if i < N:\n",
    "            labeled_file.write(line)\n",
    "        else:\n",
    "            unlabeled_file.write(line)\n",
    "        total_reports = i\n",
    "\n",
    "print(f\"✅ Split complete: {N} labeled, {(total_reports+ 1) - N} unlabeled\")"
   ]
  }
 ],
 "metadata": {
  "kernelspec": {
   "display_name": "Python 3",
   "language": "python",
   "name": "python3"
  },
  "language_info": {
   "codemirror_mode": {
    "name": "ipython",
    "version": 3
   },
   "file_extension": ".py",
   "mimetype": "text/x-python",
   "name": "python",
   "nbconvert_exporter": "python",
   "pygments_lexer": "ipython3",
   "version": "3.12.4"
  }
 },
 "nbformat": 4,
 "nbformat_minor": 5
}
