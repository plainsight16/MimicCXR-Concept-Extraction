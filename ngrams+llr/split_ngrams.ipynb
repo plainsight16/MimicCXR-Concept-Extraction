{
 "cells": [
  {
   "cell_type": "code",
   "execution_count": 2,
   "id": "dc2563d5",
   "metadata": {},
   "outputs": [],
   "source": [
    "import pandas as pd"
   ]
  },
  {
   "cell_type": "code",
   "execution_count": 3,
   "id": "ae30f8f2",
   "metadata": {},
   "outputs": [],
   "source": [
    "def split_and_sort_ngrams(input_csv: str, output_prefix: str = \"ngrams\"):\n",
    "    df = pd.read_csv(input_csv)\n",
    "\n",
    "    # Ensure consistent column names\n",
    "    df.columns = [col.strip().lower() for col in df.columns]\n",
    "    \n",
    "    # For each unique n value\n",
    "    for n_val in sorted(df[\"n\"].unique()):\n",
    "        df_n = df[df[\"n\"] == n_val].copy()\n",
    "\n",
    "        # Sort by frequency descending\n",
    "        df_n.sort_values(by=\"freq\", ascending=False, inplace=True)\n",
    "\n",
    "        # Create filename based on n\n",
    "        if n_val == 1:\n",
    "            out_file = f\"{output_prefix}_unigrams.csv\"\n",
    "        elif n_val == 2:\n",
    "            out_file = f\"{output_prefix}_bigrams_llr.csv\"\n",
    "        else:\n",
    "            out_file = f\"{output_prefix}_{n_val}grams.csv\"\n",
    "\n",
    "        df_n.to_csv(out_file, index=False)\n",
    "        print(f\"✅ Saved: {out_file}\")\n"
   ]
  },
  {
   "cell_type": "code",
   "execution_count": 4,
   "id": "88d83e1c",
   "metadata": {},
   "outputs": [
    {
     "name": "stdout",
     "output_type": "stream",
     "text": [
      "✅ Saved: mimic_cxr_ngrams_unigrams.csv\n",
      "✅ Saved: mimic_cxr_ngrams_bigrams_llr.csv\n",
      "✅ Saved: mimic_cxr_ngrams_3grams.csv\n"
     ]
    }
   ],
   "source": [
    "split_and_sort_ngrams(\"mimic_cxr_training_labelled_vocab.csv\", \"mimic_cxr_ngrams\")"
   ]
  }
 ],
 "metadata": {
  "kernelspec": {
   "display_name": "venv",
   "language": "python",
   "name": "python3"
  },
  "language_info": {
   "codemirror_mode": {
    "name": "ipython",
    "version": 3
   },
   "file_extension": ".py",
   "mimetype": "text/x-python",
   "name": "python",
   "nbconvert_exporter": "python",
   "pygments_lexer": "ipython3",
   "version": "3.12.4"
  }
 },
 "nbformat": 4,
 "nbformat_minor": 5
}
