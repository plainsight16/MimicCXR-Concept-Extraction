{
 "cells": [
  {
   "cell_type": "code",
   "execution_count": null,
   "id": "44298bf6",
   "metadata": {},
   "outputs": [],
   "source": [
    "import json\n",
    "from tqdm import tqdm\n",
    "import spacy\n",
    "import medspacy\n",
    "from medspacy.visualization import visualize_ent\n",
    "from cxr_target_rules import rules"
   ]
  },
  {
   "cell_type": "code",
   "execution_count": 16,
   "id": "843ba99d",
   "metadata": {},
   "outputs": [],
   "source": [
    "nlp = medspacy.load()"
   ]
  },
  {
   "cell_type": "code",
   "execution_count": null,
   "id": "cfffa529",
   "metadata": {},
   "outputs": [],
   "source": [
    "target_matcher = nlp.get_pipe(\"medspacy_target_matcher\")\n",
    "\n",
    "target_rules = rules\n",
    "\n",
    "target_matcher.add(target_rules) # type: ignore"
   ]
  },
  {
   "cell_type": "code",
   "execution_count": 18,
   "id": "e82d1721",
   "metadata": {},
   "outputs": [],
   "source": [
    "def to_bio_format(doc):\n",
    "    lines = []\n",
    "    for sent in doc.sents:\n",
    "        for token in sent:\n",
    "            label = \"O\"\n",
    "            for ent in doc.ents:\n",
    "                if token.idx >= ent.start_char and token.idx < ent.end_char:\n",
    "                    prefix = \"B\" if token.idx == ent.start_char else \"I\"\n",
    "                    label = f\"{prefix}-{ent.label_}\"\n",
    "                    break\n",
    "            lines.append(f\"{token.text} {label}\")\n",
    "        lines.append(\"\")  # blank line between sentences\n",
    "    return lines"
   ]
  },
  {
   "cell_type": "code",
   "execution_count": 19,
   "id": "e8371194",
   "metadata": {},
   "outputs": [],
   "source": [
    "def process_and_save(jsonl_path, output_path):\n",
    "    with open(jsonl_path, 'r') as infile:\n",
    "        texts = [json.loads(line)[\"text\"] for line in infile if \"text\" in line]\n",
    "    bio_dataset = []\n",
    "    for doc in nlp.pipe(texts, batch_size=32):\n",
    "        bio_dataset.extend(to_bio_format(doc))\n",
    "            \n",
    "    with open(output_path, 'w') as outfile:   \n",
    "        for line in bio_dataset:\n",
    "                    outfile.write(line + \"\\n\")\n",
    "    \n",
    "    print(\"Done!\")\n",
    "                # ents = [\n",
    "                #             {\n",
    "                #                 \"id\": id,\n",
    "                #                 \"text\": ent.text,\n",
    "                #                 \"label\": ent.label_,\n",
    "                #                 \"is_negated\": ent._.is_negated,\n",
    "                #                 \"section\": ent._.section_category,\n",
    "                #             }\n",
    "                #             for ent in doc.ents\n",
    "                # ]\n",
    "                # for ent_json in ents:\n",
    "                #             outfile.write(json.dumps(ent_json) + \"\\n\")"
   ]
  },
  {
   "cell_type": "code",
   "execution_count": 21,
   "id": "bc11bab2",
   "metadata": {},
   "outputs": [
    {
     "name": "stdout",
     "output_type": "stream",
     "text": [
      "Done!\n"
     ]
    }
   ],
   "source": [
    "input_dir = \"./mimic_cxr_train_val.jsonl\" \n",
    "output_bio_file = \"bio_dataset_1000.txt\"\n",
    "process_and_save(input_dir, output_bio_file)"
   ]
  }
 ],
 "metadata": {
  "kernelspec": {
   "display_name": "cxr_env",
   "language": "python",
   "name": "python3"
  },
  "language_info": {
   "codemirror_mode": {
    "name": "ipython",
    "version": 3
   },
   "file_extension": ".py",
   "mimetype": "text/x-python",
   "name": "python",
   "nbconvert_exporter": "python",
   "pygments_lexer": "ipython3",
   "version": "3.11.13"
  }
 },
 "nbformat": 4,
 "nbformat_minor": 5
}
