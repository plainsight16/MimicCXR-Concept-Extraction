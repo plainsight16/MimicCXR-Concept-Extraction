{
 "cells": [
  {
   "cell_type": "code",
   "execution_count": 1,
   "id": "af4f1dbc",
   "metadata": {},
   "outputs": [],
   "source": [
    "import json\n",
    "import random\n",
    "from pathlib import Path\n",
    "from jsonl_to_bio import jsonl_to_bio"
   ]
  },
  {
   "cell_type": "code",
   "execution_count": null,
   "id": "07054d62",
   "metadata": {},
   "outputs": [],
   "source": [
    "INPUT_JSONL = \"../doccano_input.jsonl\"\n",
    "OUTPUT_DIR = Path(\"output\")\n",
    "TRAIN_SIZE = 800\n",
    "TEST_SIZE = 100\n",
    "VALIDATE_SIZE = 100\n",
    "SEED = 42\n",
    "\n",
    "OUTPUT_DIR.mkdir(exist_ok=True)"
   ]
  },
  {
   "cell_type": "code",
   "execution_count": 4,
   "id": "98b2931d",
   "metadata": {},
   "outputs": [],
   "source": [
    "with open(INPUT_JSONL, \"r\") as f:\n",
    "    data = [json.loads(line) for line in f]\n",
    "\n",
    "random.seed(SEED)\n",
    "random.shuffle(data)\n",
    "\n",
    "assert TRAIN_SIZE + TEST_SIZE + VALIDATE_SIZE <= len(data), \"Split sizes exceed dataset length.\"\n",
    "\n",
    "train_data = data[:TRAIN_SIZE]\n",
    "test_data = data[TRAIN_SIZE:TRAIN_SIZE + TEST_SIZE]\n",
    "validate_data = data[TRAIN_SIZE + TEST_SIZE:TRAIN_SIZE + TEST_SIZE + VALIDATE_SIZE]\n",
    "\n",
    "splits = {\n",
    "    \"train\": train_data,\n",
    "    \"test\": test_data,\n",
    "    \"validate\": validate_data\n",
    "}"
   ]
  },
  {
   "cell_type": "code",
   "execution_count": 5,
   "id": "be9e54ae",
   "metadata": {},
   "outputs": [],
   "source": [
    "for split_name, split_records in splits.items():\n",
    "    with open(OUTPUT_DIR / f\"{split_name}.jsonl\", \"w\") as f:\n",
    "        for record in split_records:\n",
    "            f.write(json.dumps(record) + \"\\n\")"
   ]
  },
  {
   "cell_type": "code",
   "execution_count": 6,
   "id": "3893ee6f",
   "metadata": {},
   "outputs": [],
   "source": [
    "for split_name, split_records in splits.items():\n",
    "    jsonl_to_bio(split_records, OUTPUT_DIR / f\"{split_name}.txt\")"
   ]
  },
  {
   "cell_type": "code",
   "execution_count": 7,
   "id": "b489158c",
   "metadata": {},
   "outputs": [
    {
     "name": "stdout",
     "output_type": "stream",
     "text": [
      "Done! Files saved to output\n"
     ]
    }
   ],
   "source": [
    "print(f\"Done! Files saved to {OUTPUT_DIR}\")"
   ]
  }
 ],
 "metadata": {
  "kernelspec": {
   "display_name": "cxr_env",
   "language": "python",
   "name": "python3"
  },
  "language_info": {
   "codemirror_mode": {
    "name": "ipython",
    "version": 3
   },
   "file_extension": ".py",
   "mimetype": "text/x-python",
   "name": "python",
   "nbconvert_exporter": "python",
   "pygments_lexer": "ipython3",
   "version": "3.11.13"
  }
 },
 "nbformat": 4,
 "nbformat_minor": 5
}
