{
 "cells": [
  {
   "cell_type": "code",
   "execution_count": 1,
   "id": "a1e2731c",
   "metadata": {},
   "outputs": [],
   "source": [
    "import pandas as pd"
   ]
  },
  {
   "cell_type": "code",
   "execution_count": 24,
   "id": "8e9a2354",
   "metadata": {},
   "outputs": [],
   "source": [
    "ngrams_df = pd.read_csv(\"mimic_cxr_ngrams_3grams.csv\" )"
   ]
  },
  {
   "cell_type": "code",
   "execution_count": 25,
   "id": "74348f0e",
   "metadata": {},
   "outputs": [
    {
     "name": "stdout",
     "output_type": "stream",
     "text": [
      "Index(['phrase', 'n', 'freq', 'llr'], dtype='object')\n"
     ]
    }
   ],
   "source": [
    "print(ngrams_df.columns)"
   ]
  },
  {
   "cell_type": "code",
   "execution_count": 11,
   "id": "2acb849b",
   "metadata": {},
   "outputs": [],
   "source": [
    "radlex_df = pd.read_csv(\"RadLex.csv\")"
   ]
  },
  {
   "cell_type": "code",
   "execution_count": 20,
   "id": "69fa3ed0",
   "metadata": {},
   "outputs": [
    {
     "name": "stdout",
     "output_type": "stream",
     "text": [
      "<class 'pandas.core.frame.DataFrame'>\n",
      "0      CT Abd Angio w/wo\n",
      "1              CT Abd wo\n",
      "2            CT Abd w/wo\n",
      "3               CT Abd w\n",
      "4    CT Chest Angio w/wo\n",
      "Name: SHORT_NAME, dtype: object\n"
     ]
    }
   ],
   "source": [
    "print(type(radlex_df))\n",
    "print(radlex_df[\"SHORT_NAME\"].head())"
   ]
  },
  {
   "cell_type": "code",
   "execution_count": 17,
   "id": "761fa6ea",
   "metadata": {},
   "outputs": [],
   "source": [
    "columns_to_match = [\n",
    "    \"SHORT_NAME\", \"LONG_NAME\",\n",
    "    \"ANATOMIC_FOCUS\", \"ANATOMIC_FOCUS_2\",\n",
    "    \"BODY_REGION\", \"VIEW\", \"VIEW_2\"\n",
    "]\n",
    "\n",
    "# Flatten all terms from these columns into one set\n",
    "radlex_terms = set()\n",
    "\n",
    "for col in columns_to_match:\n",
    "    if col in radlex_df.columns:\n",
    "        radlex_terms.update(\n",
    "            radlex_df[col]\n",
    "            .dropna()\n",
    "            .astype(str)\n",
    "            .str.lower()\n",
    "            .str.strip()\n",
    "        )"
   ]
  },
  {
   "cell_type": "code",
   "execution_count": 27,
   "id": "32cc7e13",
   "metadata": {},
   "outputs": [],
   "source": [
    "ngrams_df[\"in_radlex\"] = ngrams_df[\"phrase\"].str.lower().str.strip().isin(radlex_terms)"
   ]
  },
  {
   "cell_type": "code",
   "execution_count": 30,
   "id": "ac0c4d62",
   "metadata": {},
   "outputs": [
    {
     "name": "stdout",
     "output_type": "stream",
     "text": [
      "                 phrase  n  freq  llr  in_radlex\n",
      "643  superior vena cava  3     6  NaN       True\n"
     ]
    }
   ],
   "source": [
    "in_radlex_df = ngrams_df[ngrams_df[\"in_radlex\"] == True]\n",
    "print(in_radlex_df)"
   ]
  }
 ],
 "metadata": {
  "kernelspec": {
   "display_name": "cxr_env",
   "language": "python",
   "name": "python3"
  },
  "language_info": {
   "codemirror_mode": {
    "name": "ipython",
    "version": 3
   },
   "file_extension": ".py",
   "mimetype": "text/x-python",
   "name": "python",
   "nbconvert_exporter": "python",
   "pygments_lexer": "ipython3",
   "version": "3.11.13"
  }
 },
 "nbformat": 4,
 "nbformat_minor": 5
}
