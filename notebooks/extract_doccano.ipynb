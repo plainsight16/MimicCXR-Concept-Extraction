{
 "cells": [
  {
   "cell_type": "code",
   "execution_count": null,
   "id": "ce14905b",
   "metadata": {},
   "outputs": [],
   "source": [
    "import json\n",
    "from tqdm import tqdm\n",
    "import spacy\n",
    "import medspacy\n",
    "from cxr_target_rules import rules"
   ]
  },
  {
   "cell_type": "code",
   "execution_count": 2,
   "id": "2e131c30",
   "metadata": {},
   "outputs": [],
   "source": [
    "nlp = medspacy.load()"
   ]
  },
  {
   "cell_type": "code",
   "execution_count": null,
   "id": "95faf9c4",
   "metadata": {},
   "outputs": [],
   "source": [
    "target_matcher = nlp.get_pipe(\"medspacy_target_matcher\")\n",
    "\n",
    "target_rules = rules\n",
    "\n",
    "target_matcher.add(target_rules) #type: ignore"
   ]
  },
  {
   "cell_type": "code",
   "execution_count": 11,
   "id": "e1bd6fbb",
   "metadata": {},
   "outputs": [],
   "source": [
    "def to_doccano_format(doc):\n",
    "    return {\n",
    "        \"text\": doc.text,\n",
    "        \"annotations\": [\n",
    "            {\n",
    "                \"start_offset\": ent.start_char,\n",
    "                \"end_offset\": ent.end_char,\n",
    "                \"label\": ent.label_\n",
    "            }\n",
    "            for ent in doc.ents\n",
    "        ]\n",
    "    }"
   ]
  },
  {
   "cell_type": "code",
   "execution_count": 12,
   "id": "3039832e",
   "metadata": {},
   "outputs": [
    {
     "name": "stdout",
     "output_type": "stream",
     "text": [
      "Done!\n"
     ]
    }
   ],
   "source": [
    "with open(\"mimic_cxr_train_val.jsonl\", \"r\") as f_in, open(\"doccano_input.jsonl\", \"w\") as f_out:\n",
    "    for line in f_in:\n",
    "        report = json.loads(line)\n",
    "        doc = nlp(report[\"text\"])\n",
    "        doccano_format = to_doccano_format(doc)\n",
    "        f_out.write(json.dumps(doccano_format) + \"\\n\")\n",
    "\n",
    "print(\"Done!\")"
   ]
  }
 ],
 "metadata": {
  "kernelspec": {
   "display_name": "cxr_venv",
   "language": "python",
   "name": "python3"
  },
  "language_info": {
   "codemirror_mode": {
    "name": "ipython",
    "version": 3
   },
   "file_extension": ".py",
   "mimetype": "text/x-python",
   "name": "python",
   "nbconvert_exporter": "python",
   "pygments_lexer": "ipython3",
   "version": "3.12.4"
  }
 },
 "nbformat": 4,
 "nbformat_minor": 5
}
